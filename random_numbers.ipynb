{
 "cells": [
  {
   "cell_type": "code",
   "execution_count": 14,
   "id": "4f6555d7",
   "metadata": {},
   "outputs": [],
   "source": [
    "#import pandas\n",
    "import pandas as pd\n",
    "import numpy as np\n",
    "#import random module\n",
    "import random "
   ]
  },
  {
   "cell_type": "code",
   "execution_count": 15,
   "id": "a71ecbc6",
   "metadata": {},
   "outputs": [],
   "source": [
    "x=1\n",
    "latitudes=[]\n",
    "while x < 11:\n",
    "    random_lat = random.randint(-90,89) + random.random()\n",
    "    latitudes.append(random_lat)\n",
    "    x += 1"
   ]
  },
  {
   "cell_type": "code",
   "execution_count": 16,
   "id": "06504c20",
   "metadata": {},
   "outputs": [
    {
     "data": {
      "text/plain": [
       "-42"
      ]
     },
     "execution_count": 16,
     "metadata": {},
     "output_type": "execute_result"
    }
   ],
   "source": [
    "random.randrange(-90,90, step=1)"
   ]
  },
  {
   "cell_type": "code",
   "execution_count": 17,
   "id": "7be32d0c",
   "metadata": {},
   "outputs": [
    {
     "data": {
      "text/plain": [
       "-3"
      ]
     },
     "execution_count": 17,
     "metadata": {},
     "output_type": "execute_result"
    }
   ],
   "source": [
    "random.randrange(-90, 90, step=3)"
   ]
  },
  {
   "cell_type": "code",
   "execution_count": 18,
   "id": "6a9c82ed",
   "metadata": {},
   "outputs": [
    {
     "data": {
      "text/plain": [
       "-78.1877599818577"
      ]
     },
     "execution_count": 18,
     "metadata": {},
     "output_type": "execute_result"
    }
   ],
   "source": [
    "random.uniform(-90,90)"
   ]
  },
  {
   "cell_type": "code",
   "execution_count": 19,
   "id": "2eea0915",
   "metadata": {},
   "outputs": [
    {
     "data": {
      "text/plain": [
       "41.53096250316679"
      ]
     },
     "execution_count": 19,
     "metadata": {},
     "output_type": "execute_result"
    }
   ],
   "source": [
    "np.random.uniform(-90.000,90.000)"
   ]
  },
  {
   "cell_type": "code",
   "execution_count": 20,
   "id": "780c968b",
   "metadata": {},
   "outputs": [
    {
     "data": {
      "text/plain": [
       "array([ 31.66799119,  37.15091742, -15.34886619,  -5.32915001,\n",
       "        27.27500872,  25.84526986,   9.17596106,  -1.39429168,\n",
       "       -39.84357073, -49.94210089, -64.18959907,  -1.59075025,\n",
       "        28.21062619,  28.74523719,  14.00001397,  71.7888023 ,\n",
       "        15.56037035, -16.55632326, -44.18590107,  83.5786811 ,\n",
       "        80.18625077,   7.64458548, -25.95246008,  71.21118258,\n",
       "        17.5851021 ,  45.67303789,   8.02948418,  59.18941972,\n",
       "        16.84558823,  38.97699464, -40.94370099,  -3.18051955,\n",
       "       -75.74042145,  70.91014829, -60.71871044, -28.13945704,\n",
       "       -14.74599681, -74.41743849,  34.10204325,  12.1914413 ,\n",
       "       -64.22437344,  11.97996624,  62.5596609 ,   5.88969947,\n",
       "       -50.95506401, -79.18448224, -30.08209424,  64.67414521,\n",
       "        88.11225254, -86.61380855])"
      ]
     },
     "execution_count": 20,
     "metadata": {},
     "output_type": "execute_result"
    }
   ],
   "source": [
    "np.random.uniform(-90.000,90.000, size=50)"
   ]
  },
  {
   "cell_type": "code",
   "execution_count": 27,
   "id": "4f3cca38",
   "metadata": {},
   "outputs": [],
   "source": [
    "# import timeit\n",
    "import timeit"
   ]
  },
  {
   "cell_type": "code",
   "execution_count": 28,
   "id": "a8807082",
   "metadata": {},
   "outputs": [
    {
     "name": "stdout",
     "output_type": "stream",
     "text": [
      "12 µs ± 8.6 ns per loop (mean ± std. dev. of 7 runs, 100000 loops each)\n"
     ]
    }
   ],
   "source": [
    "%timeit np.random.uniform(-90.000,90.000, size=1500)"
   ]
  },
  {
   "cell_type": "code",
   "execution_count": 30,
   "id": "d619dd9b",
   "metadata": {},
   "outputs": [
    {
     "name": "stdout",
     "output_type": "stream",
     "text": [
      "1.42 ms ± 4.06 µs per loop (mean ± std. dev. of 7 runs, 1000 loops each)\n"
     ]
    }
   ],
   "source": [
    "def latitudes(size):\n",
    "    latitudes =[]\n",
    "    x=0\n",
    "    while x < (size):\n",
    "        random_lat = random.randint(-90,90) + random.random()\n",
    "        latitudes.append(random_lat)\n",
    "        x += 1\n",
    "    return latitudes\n",
    "#call the fxn with 1500\n",
    "%timeit latitudes(1500)"
   ]
  },
  {
   "cell_type": "code",
   "execution_count": null,
   "id": "f1028095",
   "metadata": {},
   "outputs": [],
   "source": []
  }
 ],
 "metadata": {
  "kernelspec": {
   "display_name": "PythonData",
   "language": "python",
   "name": "pythondata"
  },
  "language_info": {
   "codemirror_mode": {
    "name": "ipython",
    "version": 3
   },
   "file_extension": ".py",
   "mimetype": "text/x-python",
   "name": "python",
   "nbconvert_exporter": "python",
   "pygments_lexer": "ipython3",
   "version": "3.7.11"
  }
 },
 "nbformat": 4,
 "nbformat_minor": 5
}
